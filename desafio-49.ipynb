{
 "cells": [
  {
   "cell_type": "code",
   "execution_count": 87,
   "metadata": {},
   "outputs": [],
   "source": [
    "import openpyxl\n",
    "import requests\n",
    "from bs4 import BeautifulSoup\n",
    "import pandas as pd\n",
    "import matplotlib.pyplot as plt\n",
    "\n",
    "HEADERS = {\n",
    " 'User-Agent': 'Mozilla/5.0 (Windows NT 6.3; WOW64; Trident/7.0; Touch; MAARJS; rv:11.0) like Gecko',\n",
    " 'Accept':'text/html,application/xhtml+xml,application/xml;q=0.9,image/webp,*/*;q=0.8',\n",
    " 'Accept-Encoding':'gzip,deflate,sdch',\n",
    " 'Accept-Language':'pt-BR; q=0.9;en-US,en;q=0.8',\n",
    " 'Connection':'Keep-alive',\n",
    " 'Referer':'https://www.google.com.br',\n",
    "}"
   ]
  },
  {
   "cell_type": "code",
   "execution_count": 85,
   "metadata": {},
   "outputs": [],
   "source": [
    "\n",
    "res = requests.get('https://www.americanas.com.br/categoria/pc-gamer/perifericos-gamers/mouse-gamer?chave=pc_cat_ct1_4_acom_home_pc_gamer', headers=HEADERS)"
   ]
  },
  {
   "cell_type": "code",
   "execution_count": 86,
   "metadata": {},
   "outputs": [],
   "source": [
    "soup = BeautifulSoup(res.text, 'html.parser')"
   ]
  },
  {
   "cell_type": "code",
   "execution_count": 84,
   "metadata": {},
   "outputs": [
    {
     "data": {
      "text/plain": [
       "['Mouse Gamer Redragon Griffin RGB 7200DPI M607',\n",
       " 'Kit Mobilador Para Celular Gamer Com Tripé Mouse Teclado Led Completo Jogar FreeFire/Pubg',\n",
       " 'Mouse Gamer Redragon Nothosaur Preto Com Led Multicolor M606 3200DPI',\n",
       " 'Mouse Gamer NK7 com Iluminação de Led 2400 DPI - DPX',\n",
       " 'Mouse Gamer Multilaser MO269, 2400 dpi, Led Verde, Preto e Grafite - Multilaser',\n",
       " 'Mouse Gamer Redragon Predator RGB - M612',\n",
       " 'Mouse Gamer G300s 2.500 DPI - Logitech G',\n",
       " 'Mouse Gamer Deathadder V2 Chroma 8 Botões, 20000DPI Razer',\n",
       " 'Mouse gamer rival 310 ergonomico steelseries 62433',\n",
       " 'Mouse Gamer Multilaser MO276 3200DPI 6 Botões USB Led Preto',\n",
       " 'Mouse Gamer HyperX Pulsefire Core rgb 6200 dpi - HX-MC004B',\n",
       " 'Mouse Gamer Sem Fio Silent C3Tech MG-W100BK LED Silencioso',\n",
       " 'Mouse gamer c/fio 4 botoes kross 11.07',\n",
       " 'Mouse Gamer Logitech G305 Sem Fio Hero Lightspeed 12000dpi',\n",
       " 'Razer Viper Mini - Wired Gaming Mouse - Nasa Packaging 8500DPI Preto',\n",
       " 'Mouse Gamer hp M260 6400DPI 6 Botões Led rgb USB - Preto',\n",
       " 'Mouse Logitech M185 1000 dpi Sem Fio Preto',\n",
       " 'Mouse c/fio USB KE-M090 preto kross',\n",
       " 'Mouse Sem Fio Gamer Recarregável Usb rtx T-Wolf 2400 Dpi',\n",
       " 'Mouse Gamer com Fio Alienware AW320M',\n",
       " 'Mouse Gamer Logitech G502 Hero 25K USB 11 Botões rgb Lightsync - Preto',\n",
       " 'Mouse Gamer Logitech G403 Hero 25600DPI, 06 botoes programaveis, Iluminacao rgb lightsync - 910-005',\n",
       " 'Mouse Optico Sem Fio Recarregável Led Rgb 2.4 Ghz Wirelles USB Computador Silencioso Retroiluminado Gamer Mouse',\n",
       " 'Mouse Gamer Logitech G502 HERO com RGB LIGHTSYNC Ajustes de Peso 11 Botóes Programáveis e Sensor HERO 25K']"
      ]
     },
     "execution_count": 84,
     "metadata": {},
     "output_type": "execute_result"
    }
   ],
   "source": [
    "nomes = soup.find_all(class_='product-info__Container-sc-1or28up-0 cdKgxb')\n",
    "nome = []\n",
    "\n",
    "for i in nomes:\n",
    "    nome.append(i.text)\n",
    "\n",
    "nome_pod"
   ]
  },
  {
   "cell_type": "code",
   "execution_count": 83,
   "metadata": {},
   "outputs": [
    {
     "data": {
      "text/plain": [
       "['R$ 69,99',\n",
       " 'R$ 106,11',\n",
       " 'R$ 49,99',\n",
       " 'R$ 25,43',\n",
       " 'R$ 33,33',\n",
       " 'R$ 113,06',\n",
       " 'R$ 99,99',\n",
       " 'R$ 269,10',\n",
       " 'R$ 311,00',\n",
       " 'R$ 69,90',\n",
       " 'R$ 122,66',\n",
       " 'R$ 99,90',\n",
       " 'R$ 44,90',\n",
       " 'R$ 349,90',\n",
       " 'R$ 169,99',\n",
       " 'R$ 45,31',\n",
       " 'R$ 62,91',\n",
       " 'R$ 16,99',\n",
       " 'R$ 71,01',\n",
       " 'R$ 354,24',\n",
       " 'R$ 309,00',\n",
       " 'R$ 259,00',\n",
       " 'R$ 39,99',\n",
       " 'R$ 349,00']"
      ]
     },
     "execution_count": 83,
     "metadata": {},
     "output_type": "execute_result"
    }
   ],
   "source": [
    "precos = soup.find_all(class_='src__Text-sc-154pg0p-0 price__PromotionalPrice-sc-h6xgft-1 ctBJlj price-info__ListPriceWithMargin-sc-1xm1xzb-2 liXDNM')\n",
    "preco = []\n",
    "\n",
    "for j in precos:\n",
    "    preco.append(j.text)\n",
    "\n",
    "preco_pod"
   ]
  },
  {
   "cell_type": "code",
   "execution_count": 94,
   "metadata": {},
   "outputs": [],
   "source": [
    "df1 = pd.DataFrame(nome_pod)"
   ]
  },
  {
   "cell_type": "code",
   "execution_count": 95,
   "metadata": {},
   "outputs": [],
   "source": [
    "df2 = pd.DataFrame(preco_pod)"
   ]
  },
  {
   "cell_type": "code",
   "execution_count": 88,
   "metadata": {},
   "outputs": [],
   "source": [
    "df = pd.concat([df1, df2], axis=1, ignore_index=True,)"
   ]
  },
  {
   "cell_type": "code",
   "execution_count": 89,
   "metadata": {},
   "outputs": [],
   "source": [
    "df.columns = ['produto','valor']"
   ]
  },
  {
   "cell_type": "code",
   "execution_count": 96,
   "metadata": {},
   "outputs": [
    {
     "data": {
      "text/html": [
       "<div>\n",
       "<style scoped>\n",
       "    .dataframe tbody tr th:only-of-type {\n",
       "        vertical-align: middle;\n",
       "    }\n",
       "\n",
       "    .dataframe tbody tr th {\n",
       "        vertical-align: top;\n",
       "    }\n",
       "\n",
       "    .dataframe thead th {\n",
       "        text-align: right;\n",
       "    }\n",
       "</style>\n",
       "<table border=\"1\" class=\"dataframe\">\n",
       "  <thead>\n",
       "    <tr style=\"text-align: right;\">\n",
       "      <th></th>\n",
       "      <th>produto</th>\n",
       "      <th>valor</th>\n",
       "    </tr>\n",
       "  </thead>\n",
       "  <tbody>\n",
       "    <tr>\n",
       "      <th>0</th>\n",
       "      <td>Mouse Gamer Redragon Griffin RGB 7200DPI M607</td>\n",
       "      <td>R$ 69,99</td>\n",
       "    </tr>\n",
       "    <tr>\n",
       "      <th>1</th>\n",
       "      <td>Kit Mobilador Para Celular Gamer Com Tripé Mou...</td>\n",
       "      <td>R$ 106,11</td>\n",
       "    </tr>\n",
       "    <tr>\n",
       "      <th>2</th>\n",
       "      <td>Mouse Gamer Redragon Nothosaur Preto Com Led M...</td>\n",
       "      <td>R$ 49,99</td>\n",
       "    </tr>\n",
       "    <tr>\n",
       "      <th>3</th>\n",
       "      <td>Mouse Gamer NK7 com Iluminação de Led 2400 DPI...</td>\n",
       "      <td>R$ 25,43</td>\n",
       "    </tr>\n",
       "    <tr>\n",
       "      <th>4</th>\n",
       "      <td>Mouse Gamer Multilaser MO269, 2400 dpi, Led Ve...</td>\n",
       "      <td>R$ 33,33</td>\n",
       "    </tr>\n",
       "    <tr>\n",
       "      <th>5</th>\n",
       "      <td>Mouse Gamer Redragon Predator RGB - M612</td>\n",
       "      <td>R$ 113,06</td>\n",
       "    </tr>\n",
       "    <tr>\n",
       "      <th>6</th>\n",
       "      <td>Mouse Gamer G300s 2.500 DPI - Logitech G</td>\n",
       "      <td>R$ 99,99</td>\n",
       "    </tr>\n",
       "    <tr>\n",
       "      <th>7</th>\n",
       "      <td>Mouse Gamer Deathadder V2 Chroma 8 Botões, 200...</td>\n",
       "      <td>R$ 269,10</td>\n",
       "    </tr>\n",
       "    <tr>\n",
       "      <th>8</th>\n",
       "      <td>Mouse gamer rival 310 ergonomico steelseries 6...</td>\n",
       "      <td>R$ 311,00</td>\n",
       "    </tr>\n",
       "    <tr>\n",
       "      <th>9</th>\n",
       "      <td>Mouse Gamer Multilaser MO276 3200DPI 6 Botões ...</td>\n",
       "      <td>R$ 69,90</td>\n",
       "    </tr>\n",
       "    <tr>\n",
       "      <th>10</th>\n",
       "      <td>Mouse Gamer HyperX Pulsefire Core rgb 6200 dpi...</td>\n",
       "      <td>R$ 122,66</td>\n",
       "    </tr>\n",
       "    <tr>\n",
       "      <th>11</th>\n",
       "      <td>Mouse Gamer Sem Fio Silent C3Tech MG-W100BK LE...</td>\n",
       "      <td>R$ 99,90</td>\n",
       "    </tr>\n",
       "    <tr>\n",
       "      <th>12</th>\n",
       "      <td>Mouse gamer c/fio 4 botoes kross 11.07</td>\n",
       "      <td>R$ 44,90</td>\n",
       "    </tr>\n",
       "    <tr>\n",
       "      <th>13</th>\n",
       "      <td>Mouse Gamer Logitech G305 Sem Fio Hero Lightsp...</td>\n",
       "      <td>R$ 349,90</td>\n",
       "    </tr>\n",
       "    <tr>\n",
       "      <th>14</th>\n",
       "      <td>Razer Viper Mini - Wired Gaming Mouse - Nasa P...</td>\n",
       "      <td>R$ 169,99</td>\n",
       "    </tr>\n",
       "    <tr>\n",
       "      <th>15</th>\n",
       "      <td>Mouse Gamer hp M260 6400DPI 6 Botões Led rgb U...</td>\n",
       "      <td>R$ 45,31</td>\n",
       "    </tr>\n",
       "    <tr>\n",
       "      <th>16</th>\n",
       "      <td>Mouse Logitech M185 1000 dpi Sem Fio Preto</td>\n",
       "      <td>R$ 62,91</td>\n",
       "    </tr>\n",
       "    <tr>\n",
       "      <th>17</th>\n",
       "      <td>Mouse c/fio USB KE-M090 preto kross</td>\n",
       "      <td>R$ 16,99</td>\n",
       "    </tr>\n",
       "    <tr>\n",
       "      <th>18</th>\n",
       "      <td>Mouse Sem Fio Gamer Recarregável Usb rtx T-Wol...</td>\n",
       "      <td>R$ 71,01</td>\n",
       "    </tr>\n",
       "    <tr>\n",
       "      <th>19</th>\n",
       "      <td>Mouse Gamer com Fio Alienware AW320M</td>\n",
       "      <td>R$ 354,24</td>\n",
       "    </tr>\n",
       "    <tr>\n",
       "      <th>20</th>\n",
       "      <td>Mouse Gamer Logitech G502 Hero 25K USB 11 Botõ...</td>\n",
       "      <td>R$ 309,00</td>\n",
       "    </tr>\n",
       "    <tr>\n",
       "      <th>21</th>\n",
       "      <td>Mouse Gamer Logitech G403 Hero 25600DPI, 06 bo...</td>\n",
       "      <td>R$ 259,00</td>\n",
       "    </tr>\n",
       "    <tr>\n",
       "      <th>22</th>\n",
       "      <td>Mouse Optico Sem Fio Recarregável Led Rgb 2.4 ...</td>\n",
       "      <td>R$ 39,99</td>\n",
       "    </tr>\n",
       "    <tr>\n",
       "      <th>23</th>\n",
       "      <td>Mouse Gamer Logitech G502 HERO com RGB LIGHTSY...</td>\n",
       "      <td>R$ 349,00</td>\n",
       "    </tr>\n",
       "  </tbody>\n",
       "</table>\n",
       "</div>"
      ],
      "text/plain": [
       "                                              produto      valor\n",
       "0       Mouse Gamer Redragon Griffin RGB 7200DPI M607   R$ 69,99\n",
       "1   Kit Mobilador Para Celular Gamer Com Tripé Mou...  R$ 106,11\n",
       "2   Mouse Gamer Redragon Nothosaur Preto Com Led M...   R$ 49,99\n",
       "3   Mouse Gamer NK7 com Iluminação de Led 2400 DPI...   R$ 25,43\n",
       "4   Mouse Gamer Multilaser MO269, 2400 dpi, Led Ve...   R$ 33,33\n",
       "5            Mouse Gamer Redragon Predator RGB - M612  R$ 113,06\n",
       "6            Mouse Gamer G300s 2.500 DPI - Logitech G   R$ 99,99\n",
       "7   Mouse Gamer Deathadder V2 Chroma 8 Botões, 200...  R$ 269,10\n",
       "8   Mouse gamer rival 310 ergonomico steelseries 6...  R$ 311,00\n",
       "9   Mouse Gamer Multilaser MO276 3200DPI 6 Botões ...   R$ 69,90\n",
       "10  Mouse Gamer HyperX Pulsefire Core rgb 6200 dpi...  R$ 122,66\n",
       "11  Mouse Gamer Sem Fio Silent C3Tech MG-W100BK LE...   R$ 99,90\n",
       "12             Mouse gamer c/fio 4 botoes kross 11.07   R$ 44,90\n",
       "13  Mouse Gamer Logitech G305 Sem Fio Hero Lightsp...  R$ 349,90\n",
       "14  Razer Viper Mini - Wired Gaming Mouse - Nasa P...  R$ 169,99\n",
       "15  Mouse Gamer hp M260 6400DPI 6 Botões Led rgb U...   R$ 45,31\n",
       "16         Mouse Logitech M185 1000 dpi Sem Fio Preto   R$ 62,91\n",
       "17                Mouse c/fio USB KE-M090 preto kross   R$ 16,99\n",
       "18  Mouse Sem Fio Gamer Recarregável Usb rtx T-Wol...   R$ 71,01\n",
       "19               Mouse Gamer com Fio Alienware AW320M  R$ 354,24\n",
       "20  Mouse Gamer Logitech G502 Hero 25K USB 11 Botõ...  R$ 309,00\n",
       "21  Mouse Gamer Logitech G403 Hero 25600DPI, 06 bo...  R$ 259,00\n",
       "22  Mouse Optico Sem Fio Recarregável Led Rgb 2.4 ...   R$ 39,99\n",
       "23  Mouse Gamer Logitech G502 HERO com RGB LIGHTSY...  R$ 349,00"
      ]
     },
     "execution_count": 96,
     "metadata": {},
     "output_type": "execute_result"
    }
   ],
   "source": [
    "df"
   ]
  },
  {
   "cell_type": "code",
   "execution_count": 97,
   "metadata": {},
   "outputs": [],
   "source": [
    "df.to_excel('produtoss.xlsx')"
   ]
  },
  {
   "cell_type": "code",
   "execution_count": 98,
   "metadata": {},
   "outputs": [
    {
     "ename": "NameError",
     "evalue": "name 'produto' is not defined",
     "output_type": "error",
     "traceback": [
      "\u001b[1;31m---------------------------------------------------------------------------\u001b[0m",
      "\u001b[1;31mNameError\u001b[0m                                 Traceback (most recent call last)",
      "Cell \u001b[1;32mIn [98], line 5\u001b[0m\n\u001b[0;32m      2\u001b[0m Produto \u001b[39m=\u001b[39m planilha\u001b[39m.\u001b[39mproduto\n\u001b[0;32m      3\u001b[0m Valor \u001b[39m=\u001b[39m planilha\u001b[39m.\u001b[39mvalor\n\u001b[1;32m----> 5\u001b[0m plt\u001b[39m.\u001b[39mbarh(produto,valor)\n\u001b[0;32m      7\u001b[0m plt\u001b[39m.\u001b[39mshow()\n",
      "\u001b[1;31mNameError\u001b[0m: name 'produto' is not defined"
     ]
    }
   ],
   "source": [
    "\n",
    "planilha = pd.read_excel('produtoss.xlsx')\n",
    "Produto = planilha.produto\n",
    "Valor = planilha.valor\n",
    "\n",
    "plt.barh(produto,valor)\n",
    "\n",
    "plt.show()"
   ]
  }
 ],
 "metadata": {
  "kernelspec": {
   "display_name": "Python 3.10.7 64-bit",
   "language": "python",
   "name": "python3"
  },
  "language_info": {
   "codemirror_mode": {
    "name": "ipython",
    "version": 3
   },
   "file_extension": ".py",
   "mimetype": "text/x-python",
   "name": "python",
   "nbconvert_exporter": "python",
   "pygments_lexer": "ipython3",
   "version": "3.10.7"
  },
  "orig_nbformat": 4,
  "vscode": {
   "interpreter": {
    "hash": "bb33f6d328f18c07440802b8c66874c52744b86bff5cfe8eb1d71afeb55a2150"
   }
  }
 },
 "nbformat": 4,
 "nbformat_minor": 2
}
